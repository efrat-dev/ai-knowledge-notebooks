{
 "cells": [
  {
   "cell_type": "markdown",
   "metadata": {},
   "source": [
    "# K-Nearest Neighbors (KNN) - Conceptual Overview"
   ]
  },
  {
   "cell_type": "markdown",
   "metadata": {},
   "source": [
    "## 🧠 Classification: The Fundamental Problem\n",
    "Classification refers to the task of predicting a **label** for a given **input data point**.\n",
    "Labels can be of different types:\n",
    "- **Binary Classification**: Two possible labels (e.g., yes/no).\n",
    "- **Multiclass Classification**: More than two distinct categories.\n",
    "- **Multilabel Classification**: A single point may belong to multiple categories simultaneously."
   ]
  },
  {
   "cell_type": "markdown",
   "metadata": {},
   "source": [
    "## 🧪 KNN Theory\n",
    "- KNN = K-Nearest Neighbors\n",
    "- Predicts the label of a new point by examining its *K* nearest labeled neighbors.\n",
    "- No explicit training phase: it's a lazy learner.\n",
    "- Requires distance calculation to determine closeness."
   ]
  },
  {
   "cell_type": "markdown",
   "metadata": {},
   "source": [
    "## 📏 Distance Functions\n",
    "- **Euclidean (L2)**: $\\sqrt{(x_2 - x_1)^2 + (y_2 - y_1)^2}$\n",
    "- **Manhattan (L1)**: $|x_2 - x_1| + |y_2 - y_1|$\n",
    "- **Minkowski**: Generalized form with parameter *q*.\n",
    "  - For q=1 → Manhattan, q=2 → Euclidean."
   ]
  },
  {
   "cell_type": "markdown",
   "metadata": {},
   "source": [
    "## ✅ Evaluation\n",
    "- **Accuracy**: Ratio of correct predictions over total predictions.\n",
    "- Requires splitting the dataset into training and testing sets."
   ]
  },
  {
   "cell_type": "markdown",
   "metadata": {},
   "source": [
    "## 🔧 Choosing the Right K\n",
    "- **Small k** → Can overfit and be sensitive to noise.\n",
    "- **Large k** → Can underfit and miss the true pattern.\n",
    "- Use **cross-validation** to tune k."
   ]
  },
  {
   "cell_type": "markdown",
   "metadata": {},
   "source": [
    "## 🧮 Weighted KNN\n",
    "- Assigns **more influence** to neighbors that are closer.\n",
    "- Uses weights = 1/distance to scale neighbor contributions.\n",
    "- Can be more accurate and robust to outliers."
   ]
  },
  {
   "cell_type": "markdown",
   "metadata": {},
   "source": [
    "## 📊 Advantages\n",
    "- Easy to understand and implement.\n",
    "- Flexible: works for classification and regression.\n",
    "- No training time."
   ]
  },
  {
   "cell_type": "markdown",
   "metadata": {},
   "source": [
    "## ⚠️ Disadvantages\n",
    "- Slow for large datasets (computational cost).\n",
    "- Sensitive to scale and feature relevance.\n",
    "- Must normalize data before use."
   ]
  }
 ],
 "metadata": {
  "kernelspec": {
   "display_name": "Python 3",
   "language": "python",
   "name": "python3"
  },
  "language_info": {
   "name": "python",
   "version": "3.8"
  }
 },
 "nbformat": 4,
 "nbformat_minor": 2
}
