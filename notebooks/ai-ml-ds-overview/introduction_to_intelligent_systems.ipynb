{
 "cells": [
  {
   "cell_type": "markdown",
   "metadata": {},
   "source": [
    "# 📘 Introduction to Intelligent Systems\n",
    "\n",
    "Welcome to the foundational materials covering **Artificial Intelligence (AI)**, **Machine Learning (ML)**, and **Data Science (DS)**.\n",
    "\n",
    "## 📚 Contents\n",
    "- [Artificial Intelligence](./artificial_intelligence.ipynb)\n",
    "- [Machine Learning](./machine_learning.ipynb)\n",
    "- [Data Science](./data_science.ipynb)\n",
    "- [AI vs ML vs DS Comparison](./comparison_ai_ml_ds.ipynb)"
   ]
  }
 ],
 "metadata": {
  "language_info": {
   "name": "python"
  }
 },
 "nbformat": 4,
 "nbformat_minor": 2
}
