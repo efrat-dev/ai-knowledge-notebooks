{
 "cells": [
  {
   "cell_type": "markdown",
   "metadata": {},
   "source": [
    "# Pandas Overview\n",
    "\n",
    "**Pandas** is a high-level Python library for data manipulation and analysis.\n",
    "\n",
    "## Core Data Structures:\n",
    "- `Series`: One-dimensional labeled array\n",
    "- `DataFrame`: 2D labeled structure (like tables)\n",
    "\n",
    "## Features:\n",
    "- Handle structured/tabular data\n",
    "- Clean/filter/group/transform\n",
    "- Load/save CSV, Excel, SQL, JSON\n",
    "\n",
    "## Applications:\n",
    "- Data wrangling & cleaning\n",
    "- Exploratory Data Analysis (EDA)\n",
    "- Time Series Analysis\n",
    "- Preprocessing for ML\n",
    "\n",
    "---\n",
    "\n",
    "[⬅️ Back to Intro](./scientific_python.ipynb) | [🔢 To NumPy](./numpy.ipynb)\n"
   ]
  }
 ],
 "metadata": {
  "language_info": {
   "name": "python"
  }
 },
 "nbformat": 4,
 "nbformat_minor": 2
}
