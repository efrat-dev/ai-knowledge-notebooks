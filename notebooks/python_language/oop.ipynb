{
 "cells": [
  {
   "cell_type": "markdown",
   "id": "7bddf147",
   "metadata": {},
   "source": [
    "# Object-Oriented Programming in Python\n",
    "This notebook provides a comprehensive summary of Object-Oriented Programming (OOP) in Python, synthesized from conceptual foundations and example use-cases. The material is structured for clarity, practical application, and theoretical understanding, avoiding any direct or indirect trace to the original presentation."
   ]
  },
  {
   "cell_type": "markdown",
   "id": "d263f30e",
   "metadata": {},
   "source": [
    "## What is OOP?\n",
    "Object-Oriented Programming (OOP) is a programming paradigm that organizes software design around data, or objects, rather than functions and logic. Objects are instances of classes, which can contain data in the form of fields (attributes) and code in the form of procedures (methods)."
   ]
  },
  {
   "cell_type": "markdown",
   "id": "cfcae0db",
   "metadata": {},
   "source": [
    "### Key Concepts:\n",
    "- **Class**: A blueprint for creating objects.\n",
    "- **Object**: A specific instance of a class.\n",
    "- **Attribute**: A variable bound to an object.\n",
    "- **Method**: A function bound to an object."
   ]
  },
  {
   "cell_type": "code",
   "execution_count": null,
   "id": "3c9d2914",
   "metadata": {},
   "outputs": [],
   "source": [
    "class Example:\n",
    "    def __init__(self, name):\n",
    "        self.name = name\n",
    "\n",
    "    def greet(self):\n",
    "        print(f\"Hello, my name is {self.name}.\")"
   ]
  },
  {
   "cell_type": "markdown",
   "id": "7644f19f",
   "metadata": {},
   "source": [
    "## Self Keyword\n",
    "In Python, `self` refers to the current instance of the class. It is explicitly passed as the first parameter to methods."
   ]
  },
  {
   "cell_type": "markdown",
   "id": "6f08fde3",
   "metadata": {},
   "source": [
    "## Constructors and Instantiation\n",
    "Constructors are special methods (commonly `__init__`) used to initialize new objects. Objects are instantiated by calling the class."
   ]
  },
  {
   "cell_type": "code",
   "execution_count": null,
   "id": "7545d0d3",
   "metadata": {},
   "outputs": [],
   "source": [
    "class Animal:\n",
    "    def __init__(self, species):\n",
    "        self.species = species\n",
    "\n",
    "cat = Animal('Cat')"
   ]
  },
  {
   "cell_type": "markdown",
   "id": "b4588030",
   "metadata": {},
   "source": [
    "## Encapsulation\n",
    "Encapsulation restricts direct access to some of an object's components, which is a means of preventing accidental interference.\n",
    "- Public attributes: `self.attribute`\n",
    "- Protected attributes: `self._attribute`\n",
    "- Private attributes: `self.__attribute`"
   ]
  },
  {
   "cell_type": "markdown",
   "id": "dee306bd",
   "metadata": {},
   "source": [
    "## Inheritance\n",
    "Inheritance enables new classes to receive—or inherit—the properties and methods of existing classes."
   ]
  },
  {
   "cell_type": "code",
   "execution_count": null,
   "id": "29cca0c5",
   "metadata": {},
   "outputs": [],
   "source": [
    "class Vehicle:\n",
    "    def __init__(self, brand):\n",
    "        self.brand = brand\n",
    "\n",
    "class Car(Vehicle):\n",
    "    def drive(self):\n",
    "        print(f\"{self.brand} is driving.\")"
   ]
  },
  {
   "cell_type": "markdown",
   "id": "07b3d57b",
   "metadata": {},
   "source": [
    "## Polymorphism\n",
    "Polymorphism allows the same interface for different data types. For instance, multiple classes may implement the same method."
   ]
  },
  {
   "cell_type": "code",
   "execution_count": null,
   "id": "da17fb26",
   "metadata": {},
   "outputs": [],
   "source": [
    "class Dog:\n",
    "    def make_sound(self):\n",
    "        print(\"Woof\")\n",
    "\n",
    "class Cat:\n",
    "    def make_sound(self):\n",
    "        print(\"Meow\")\n",
    "\n",
    "animals = [Dog(), Cat()]\n",
    "for animal in animals:\n",
    "    animal.make_sound()"
   ]
  },
  {
   "cell_type": "markdown",
   "id": "58043518",
   "metadata": {},
   "source": [
    "## Operator Overloading\n",
    "Classes can override built-in operators by defining magic methods like `__add__`, `__eq__`, `__str__`, etc."
   ]
  },
  {
   "cell_type": "code",
   "execution_count": null,
   "id": "2f5feaef",
   "metadata": {},
   "outputs": [],
   "source": [
    "class Point:\n",
    "    def __init__(self, x, y):\n",
    "        self.x = x\n",
    "        self.y = y\n",
    "\n",
    "    def __eq__(self, other):\n",
    "        return self.x == other.x and self.y == other.y"
   ]
  },
  {
   "cell_type": "markdown",
   "id": "88d475ad",
   "metadata": {},
   "source": [
    "## Summary\n",
    "OOP in Python is a powerful paradigm that facilitates code reuse, modularity, encapsulation, and abstraction. By mastering concepts such as classes, objects, inheritance, and polymorphism, developers can write clean, maintainable, and scalable code."
   ]
  }
 ],
 "metadata": {},
 "nbformat": 4,
 "nbformat_minor": 5
}