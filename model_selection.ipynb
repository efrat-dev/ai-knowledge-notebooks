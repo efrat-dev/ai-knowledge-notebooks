{
 "cells": [
  {
   "cell_type": "markdown",
   "id": "a03e869f",
   "metadata": {},
   "source": [
    "# Model Selection & Train-Test Split\n",
    "**MLDS Course Summary**\n",
    "\n",
    "*Lecturer: Kai Golan Hashiloni*"
   ]
  },
  {
   "cell_type": "markdown",
   "id": "7889dcc7",
   "metadata": {},
   "source": [
    "### 🧠 Introduction\n",
    "When building a machine learning solution, a key task is to select an appropriate model. This process impacts the model's performance, efficiency, and generalization capabilities."
   ]
  },
  {
   "cell_type": "markdown",
   "id": "a867fc10",
   "metadata": {},
   "source": [
    "### 📌 What is Model Selection?\n",
    "Model selection is the process of:\n",
    "1. **Choosing a model architecture** suitable for the problem.\n",
    "2. **Tuning its hyperparameters** to improve performance.\n",
    "\n",
    "It is essential to select models that balance predictive power with simplicity."
   ]
  },
  {
   "cell_type": "markdown",
   "id": "9a315066",
   "metadata": {},
   "source": [
    "### 🎯 Why Model Selection Matters\n",
    "- **Performance:** A well-chosen model makes more accurate predictions.\n",
    "- **Overfitting vs. Underfitting:** Good models generalize well.\n",
    "- **Efficiency:** Saves time and resources by avoiding unsuitable models."
   ]
  },
  {
   "cell_type": "markdown",
   "id": "c571a971",
   "metadata": {},
   "source": [
    "### 🔍 Key Considerations\n",
    "- **Complexity:** Simple models are easy to train and interpret, but may miss patterns. Complex ones might overfit.\n",
    "- **Interpretability:** Some models (e.g., decision trees) are more transparent than others (e.g., deep nets).\n",
    "- **Computational cost:** More complex models often require more resources and data."
   ]
  },
  {
   "cell_type": "markdown",
   "id": "3131255b",
   "metadata": {},
   "source": [
    "### 🧪 Train-Test Split\n",
    "Dividing data is essential for evaluating model performance. The basic split includes:\n",
    "- **Training set:** Used to train the model.\n",
    "- **Test set:** Used to assess model performance on unseen data.\n",
    "\n",
    "Typical split ratios: 80/20 or 90/10."
   ]
  },
  {
   "cell_type": "markdown",
   "id": "be131ed6",
   "metadata": {},
   "source": [
    "### ⚠️ The Risk of Overfitting in Testing\n",
    "If model selection is based solely on test results, we risk overfitting to the test set.\n",
    "This makes the final evaluation less reliable."
   ]
  },
  {
   "cell_type": "markdown",
   "id": "f06b0027",
   "metadata": {},
   "source": [
    "### 🧪📊 Train/Validation/Test Split\n",
    "To reduce bias during model evaluation, a three-way split is preferred:\n",
    "- **Train set:** Model training.\n",
    "- **Validation set:** Used for model selection and tuning.\n",
    "- **Test set:** Only for final evaluation.\n",
    "\n",
    "Typical split: 75/15/10."
   ]
  }
 ],
 "metadata": {
  "language_info": {
   "name": "python"
  }
 },
 "nbformat": 4,
 "nbformat_minor": 5
}
