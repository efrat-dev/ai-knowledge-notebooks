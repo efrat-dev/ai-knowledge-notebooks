{
 "cells": [
  {
   "cell_type": "markdown",
   "metadata": {},
   "source": [
    "# NumPy Overview\n",
    "\n",
    "**NumPy** (Numerical Python) is a fundamental Python library for numerical computing.\n",
    "\n",
    "## Core Features:\n",
    "- Supports **n-dimensional arrays** (`ndarray`)\n",
    "- Optimized **math functions** (trigonometry, exponents, roots)\n",
    "- Tools for **linear algebra**, **random sampling**, **vectorized computations**\n",
    "- Basis for pandas, scikit-learn, TensorFlow\n",
    "\n",
    "## Performance Advantages:\n",
    "- Contiguous memory layout (better than Python lists)\n",
    "- CPU cache/vector instructions\n",
    "- Written in C → high performance\n",
    "\n",
    "## Applications:\n",
    "- Data analysis\n",
    "- Machine Learning matrix ops\n",
    "- Scientific simulations\n",
    "\n",
    "## Basic Functionalities:\n",
    "- Array creation (`array`, `zeros`, `ones`, `random`)\n",
    "- Reshaping, slicing, combining\n",
    "- Stats: `mean()`, `median()`, etc.\n",
    "\n",
    "---\n",
    "\n",
    "[⬅️ Back to Intro](./scientific_python.ipynb) | [🧾 To pandas](./pandas.ipynb)"
   ]
  }
 ],
 "metadata": {
  "language_info": {
   "name": "python"
  }
 },
 "nbformat": 4,
 "nbformat_minor": 2
}
