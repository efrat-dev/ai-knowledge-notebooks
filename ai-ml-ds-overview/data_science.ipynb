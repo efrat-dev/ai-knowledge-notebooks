{
 "cells": [
  {
   "cell_type": "markdown",
   "metadata": {},
   "source": [
    "# 📊 Data Science Overview\n",
    "\n",
    "**Data Science (DS)** focuses on extracting insights and knowledge from data.\n",
    "\n",
    "## 🔬 Core Activities\n",
    "- Statistical inference and visualization\n",
    "- Domain-driven experimental design\n",
    "\n",
    "## 👩‍💻 Role of a Data Scientist\n",
    "- Research, programming, and modeling\n",
    "- Understanding business goals\n",
    "- Communicating insights effectively\n",
    "\n",
    "## 🤝 Collaborations\n",
    "- Data Engineers\n",
    "- Business Analysts\n",
    "- Product Managers\n",
    "- Software & ML Engineers\n",
    "- Stakeholders\n",
    "\n",
    "## 🛠️ Skills\n",
    "- Python, R, SQL, Git\n",
    "- Statistics and mathematics\n",
    "- Data wrangling\n",
    "- Model optimization\n",
    "- Data storytelling\n",
    "\n",
    "## 🧩 Types of Problems\n",
    "- **Supervised Learning**: Trained on labeled data (e.g., spam detection)\n",
    "- **Unsupervised Learning**: Finding hidden patterns (e.g., clustering)\n",
    "\n",
    "## 🔄 The Data Science Pipeline\n",
    "1. Define problem and goals  \n",
    "2. Collect data  \n",
    "3. Exploratory Data Analysis (EDA)  \n",
    "4. Preprocess data  \n",
    "5. Select model  \n",
    "6. Train model  \n",
    "7. Evaluate model  \n",
    "8. Deploy model  \n",
    "9. Monitor performance  "
   ]
  }
 ],
 "metadata": {
  "language_info": {
   "name": "python"
  }
 },
 "nbformat": 4,
 "nbformat_minor": 2
}
